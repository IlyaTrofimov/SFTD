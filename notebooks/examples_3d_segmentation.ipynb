{
 "cells": [
  {
   "cell_type": "markdown",
   "id": "9f4f5f06",
   "metadata": {},
   "source": [
    "In this experiment, we use the Swin UNETR models pretrained on BraTS21 dataset available via the link https://github.com/Project-MONAI/research-contributions/tree/main/SwinUNETR/BRATS21#models."
   ]
  },
  {
   "cell_type": "markdown",
   "id": "7d59b6da",
   "metadata": {},
   "source": [
    "First, we obtain the true segmentation and predicted segmentation following the instructions https://github.com/Project-MONAI/research-contributions/tree/main/SwinUNETR/BRATS21#evaluation. We save the segmentations with the three original channels corresponding to ED, ET, NCR and analyze each channel separately."
   ]
  },
  {
   "cell_type": "code",
   "execution_count": 1,
   "id": "71d73b33",
   "metadata": {},
   "outputs": [],
   "source": [
    "import torch\n",
    "import gudhi\n",
    "import plotly\n",
    "import plotly.graph_objects as go"
   ]
  },
  {
   "cell_type": "code",
   "execution_count": 2,
   "id": "02072b41",
   "metadata": {},
   "outputs": [
    {
     "name": "stdout",
     "output_type": "stream",
     "text": [
      "%pylab is deprecated, use %matplotlib inline and import the required libraries.\n",
      "Populating the interactive namespace from numpy and matplotlib\n"
     ]
    }
   ],
   "source": [
    "%pylab inline"
   ]
  },
  {
   "cell_type": "code",
   "execution_count": 3,
   "id": "00a1ebe4",
   "metadata": {},
   "outputs": [],
   "source": [
    "def get_coords(a):\n",
    "    start_coords = []\n",
    "    end_coords = []\n",
    "    for i in range(a.ndim):\n",
    "        other_ax = tuple([j for j in range(a.ndim) if i != j])\n",
    "        is_any = np.any(a == 1., axis=other_ax)\n",
    "        assert is_any.sum() > 0\n",
    "        start_index = np.where(is_any == True)[0][0]\n",
    "        end_index = np.where(is_any == True)[0][-1]\n",
    "        start_coords.append(start_index)\n",
    "        end_coords.append(end_index)\n",
    "    return start_coords, end_coords"
   ]
  },
  {
   "cell_type": "code",
   "execution_count": 4,
   "id": "85aa90f1",
   "metadata": {},
   "outputs": [],
   "source": [
    "def make_reduction(a, start_coords, end_coords):\n",
    "    a_reduced = a[max(0, start_coords[0] - 1) : min(a.shape[0], end_coords[0] + 2),\n",
    "                  max(0, start_coords[1] - 1) : min(a.shape[1], end_coords[1] + 2),\n",
    "                  max(0, start_coords[2] - 1) : min(a.shape[2], end_coords[2] + 2)]\n",
    "    return a_reduced"
   ]
  },
  {
   "cell_type": "code",
   "execution_count": 5,
   "id": "c5d75b34",
   "metadata": {},
   "outputs": [],
   "source": [
    "def get_reduced_object(a):\n",
    "    start_coords, end_coords = get_coords(a)\n",
    "    a_reduced = make_reduction(a, start_coords, end_coords)\n",
    "    return a_reduced"
   ]
  },
  {
   "cell_type": "code",
   "execution_count": 6,
   "id": "f422d30c",
   "metadata": {},
   "outputs": [],
   "source": [
    "def get_aligned_coords(start_coords_1, start_coords_2, end_coords_1, end_coords_2):\n",
    "    start_coords = np.minimum(start_coords_1, start_coords_2)\n",
    "    end_coords = np.maximum(end_coords_1, end_coords_2)\n",
    "    return start_coords, end_coords"
   ]
  },
  {
   "cell_type": "code",
   "execution_count": 7,
   "id": "90694e6d",
   "metadata": {},
   "outputs": [],
   "source": [
    "def get_aligned_objects(a, b):\n",
    "    start_coords_a, end_coords_a = get_coords(a)\n",
    "    start_coords_b, end_coords_b = get_coords(b)\n",
    "    start_coords, end_coords = get_aligned_coords(start_coords_a, start_coords_b,\n",
    "                                                  end_coords_a, end_coords_b)\n",
    "    a_aligned = make_reduction(a, start_coords, end_coords)\n",
    "    b_aligned = make_reduction(b, start_coords, end_coords)\n",
    "    return a_aligned, b_aligned"
   ]
  },
  {
   "cell_type": "code",
   "execution_count": 8,
   "id": "d33c8ca2",
   "metadata": {},
   "outputs": [],
   "source": [
    "class SFDLossGudhi:\n",
    "    def __init__(self, dims = [1], card = 100, use_max = False, p = 1, min_barcode = 0.0):\n",
    "        self.dims = dims\n",
    "        self.card = card\n",
    "        self.use_max = use_max\n",
    "        self.p = p\n",
    "        self.min_barcode = min_barcode\n",
    "\n",
    "    def __call__(self, F1, G1):\n",
    "        D_size = torch.Size([3] + list(F1.shape))\n",
    "        D = torch.zeros(D_size, dtype = F1.dtype)\n",
    "\n",
    "        if not self.use_max:\n",
    "            D[0] = torch.min(F1, G1)\n",
    "            D[1] = F1\n",
    "            D[2] = torch.min(torch.min(F1, G1)).expand(F1.shape)\n",
    "        else:\n",
    "            D[0] = F1\n",
    "            D[1] = torch.max(F1, G1)\n",
    "            D[2] = torch.min(torch.min(F1)).expand(F1.shape)\n",
    "\n",
    "        cubical_complex = gudhi.CubicalComplex(vertices = D.detach().numpy())\n",
    "        cubical_complex.compute_persistence(homology_coeff_field = 2, min_persistence = 0.0)\n",
    "\n",
    "        v = cubical_complex.vertices_of_persistence_pairs()\n",
    "\n",
    "        D_fortran = D.permute(*torch.arange(D.ndim - 1, -1, -1))\n",
    "        D_flat = D_fortran.reshape(D.numel())\n",
    "\n",
    "        loss = 0.\n",
    "\n",
    "        self.v = v\n",
    "        self.D = D\n",
    "        self.cubical_complex = cubical_complex\n",
    "\n",
    "        for dim in self.dims:\n",
    "\n",
    "            if v[0] and len(v[0]) >= dim + 1:\n",
    "\n",
    "                r = []\n",
    "\n",
    "                for elem in v[0][dim]:\n",
    "                    i, j = elem\n",
    "                    if D_flat[j] - D_flat[i] > self.min_barcode:\n",
    "                        r.append((D_flat[i], D_flat[j]))\n",
    "\n",
    "                r_sorted = sorted(r, key = lambda x : x[1].item() - x[0].item(), reverse = True)\n",
    "                part_loss = sum(list(map(lambda x : (x[1] - x[0]) ** self.p, r_sorted[:self.card])))\n",
    "\n",
    "                loss += part_loss\n",
    "\n",
    "        return loss"
   ]
  },
  {
   "cell_type": "code",
   "execution_count": 9,
   "id": "e4d85fa4",
   "metadata": {},
   "outputs": [],
   "source": [
    "def plot_barcodes(arr, color_list = ['deepskyblue', 'limegreen', 'darkkhaki', 'indianred'],\n",
    "                  dark_color_list = None, title = '', hom = None):\n",
    "\n",
    "    if dark_color_list is None:\n",
    "        dark_color_list = color_list\n",
    "\n",
    "    sh = len(arr)\n",
    "    step = 0\n",
    "    if (len(color_list) < sh):\n",
    "        color_list *= sh\n",
    "\n",
    "    for i in range(sh):\n",
    "\n",
    "        if not (hom is None):\n",
    "            if i not in hom:\n",
    "                continue\n",
    "\n",
    "        barc = arr[i].copy()\n",
    "        arrayForSort = np.subtract(barc[:,1],barc[:,0])\n",
    "\n",
    "        bsorted = np.sort(arrayForSort)\n",
    "        nbarc = bsorted.shape[0]\n",
    "        \n",
    "        if nbarc:\n",
    "            plt.plot(barc[0], np.ones(2)*step, color = color_list[i], label = 'H{}'.format(i))\n",
    "            for b in barc:\n",
    "                plt.plot(b, np.ones(2)*step, color = color_list[i])\n",
    "                step += 1\n",
    "\n",
    "    plt.xlabel('$\\epsilon$ (time)')\n",
    "    plt.ylabel('segment')\n",
    "    plt.title(title)\n",
    "    plt.legend(loc = 'lower right')\n",
    "    plt.rcParams[\"figure.figsize\"] = [6, 4]"
   ]
  },
  {
   "cell_type": "code",
   "execution_count": 10,
   "id": "2f5fa7ff",
   "metadata": {},
   "outputs": [],
   "source": [
    "def visualize(o, features=None):\n",
    "    s1, s2, s3 = o.shape\n",
    "    X, Y, Z = np.mgrid[0:s1:complex('{}j'.format(s1)),\n",
    "                       0:s2:complex('{}j'.format(s2)),\n",
    "                       0:s3:complex('{}j'.format(s3))]\n",
    "    values = o\n",
    "\n",
    "    fig = go.Figure(data=go.Volume(\n",
    "        x=X.flatten(),\n",
    "        y=Y.flatten(),\n",
    "        z=Z.flatten(),\n",
    "        value=values.flatten(),\n",
    "        isomin=0.1,\n",
    "        isomax=0.8,\n",
    "        opacity=0.3, # needs to be small to see through all surfaces\n",
    "        surface_count=3, # needs to be a large number for good volume rendering\n",
    "        colorscale='cividis'\n",
    "        ))\n",
    "\n",
    "    if features is not None:\n",
    "        for (s_x, s_y, s_z), (e_x, e_y, e_z) in features:\n",
    "            fig.add_trace(\n",
    "                go.Scatter3d(x=[s_x, e_x],\n",
    "                             y=[s_y, e_y],\n",
    "                             z=[s_z, e_z],\n",
    "                             mode='lines+markers',\n",
    "                             marker=dict(\n",
    "                            size=7,\n",
    "                            color='red',\n",
    "                            opacity=0.8\n",
    "                            )\n",
    "                              )\n",
    "            )\n",
    "\n",
    "            fig.add_trace(\n",
    "                go.Scatter3d(x=[e_x],\n",
    "                             y=[e_y],\n",
    "                             z=[e_z],\n",
    "                             mode='lines+markers',\n",
    "                             marker=dict(\n",
    "                            size=7,\n",
    "                            color='green',\n",
    "                            opacity=0.8\n",
    "                            )\n",
    "                              )\n",
    "            )\n",
    "\n",
    "    fig.update_layout(\n",
    "        scene = dict(\n",
    "            xaxis = dict(showticklabels = False, showaxeslabels = False),\n",
    "            yaxis = dict(showticklabels = False, showaxeslabels = False),\n",
    "            zaxis =dict(showticklabels = False, showaxeslabels = False),\n",
    "            ),\n",
    "    )\n",
    "\n",
    "    fig.show()"
   ]
  },
  {
   "cell_type": "code",
   "execution_count": 11,
   "id": "0383815c",
   "metadata": {},
   "outputs": [],
   "source": [
    "def get_elem(D_shape, num):\n",
    "    \n",
    "    num_orig = num\n",
    "    \n",
    "    #print(num)\n",
    "    i1 = num // (D_shape[0] * D_shape[1] * D_shape[2])\n",
    "    num -= i1 * (D_shape[0] * D_shape[1] * D_shape[2])\n",
    "    \n",
    "    #print(num)\n",
    "    i2 = num // (D_shape[0] * D_shape[1])\n",
    "    num -= i2 * (D_shape[0] * D_shape[1])\n",
    "    \n",
    "    #print(num)\n",
    "    i3 = num // D_shape[0]\n",
    "    num -= i3 * D_shape[0]\n",
    "    \n",
    "    #print(num)\n",
    "    i4 = num\n",
    "\n",
    "    #print(num_orig, ':', i1, i2, i3, i4)\n",
    "    \n",
    "    return i4, i3, i2, i1"
   ]
  },
  {
   "cell_type": "code",
   "execution_count": 12,
   "id": "98a5f3b1",
   "metadata": {},
   "outputs": [],
   "source": [
    "def add_markers(G_marker, dim = 1):\n",
    "    \n",
    "    feat_loc = []\n",
    "    \n",
    "    if len(sfd.v[0]) - 1 >= dim:\n",
    "    \n",
    "        for idx, (v1, v2) in enumerate(sfd.v[0][dim]):\n",
    "                print('dim', dim, v1, v2, get_elem(sfd.D.shape, v1), get_elem(sfd.D.shape, v2))\n",
    "\n",
    "                markers = ['o', 'x', '*', 's', 'p']\n",
    "                i1, i2, i3, i4 = get_elem(sfd.D.shape, v1)\n",
    "                j1, j2, j3, j4 = get_elem(sfd.D.shape, v2)\n",
    "\n",
    "                G_marker[i2, i3, i4] = 1\n",
    "                G_marker[j2, j3, j4] = 1\n",
    "\n",
    "                ax.plot(i3, i4, 'o', color = 'red', markersize = 7)\n",
    "                ax.plot(j3, j4, 'o', color = 'orange', markersize = 7)\n",
    "                \n",
    "                feat_loc.append([[i2, i3, i4], [j2, j3, j4]])\n",
    "    \n",
    "    if len(feat_loc) == 0:\n",
    "        return None\n",
    "    return feat_loc"
   ]
  },
  {
   "cell_type": "markdown",
   "id": "964c77a4",
   "metadata": {},
   "source": [
    "Load the segmentations"
   ]
  },
  {
   "cell_type": "code",
   "execution_count": 13,
   "id": "a36187d9",
   "metadata": {},
   "outputs": [
    {
     "name": "stdout",
     "output_type": "stream",
     "text": [
      "(3, 240, 240, 155) (3, 240, 240, 155)\n"
     ]
    }
   ],
   "source": [
    "o_l = np.load('outputs/test1/BraTS2021_label_144.npy')[0].astype(np.uint8)\n",
    "o_p = np.load('outputs/test1/BraTS2021_pred_144.npy')\n",
    "channel_num = 0\n",
    "print (o_l.shape, o_p.shape)"
   ]
  },
  {
   "cell_type": "markdown",
   "id": "c866e18f",
   "metadata": {},
   "source": [
    "Remove the empty space around objects for the ease of computations, in aligned manner"
   ]
  },
  {
   "cell_type": "code",
   "execution_count": 14,
   "id": "848dfe90",
   "metadata": {},
   "outputs": [],
   "source": [
    "o_l_aligned, o_p_aligned = get_aligned_objects(o_l[channel_num], o_p[channel_num])"
   ]
  },
  {
   "cell_type": "code",
   "execution_count": 15,
   "id": "22fa5c85",
   "metadata": {},
   "outputs": [
    {
     "data": {
      "text/plain": [
       "((45, 44, 51), (45, 44, 51))"
      ]
     },
     "execution_count": 15,
     "metadata": {},
     "output_type": "execute_result"
    }
   ],
   "source": [
    "o_l_aligned.shape, o_p_aligned.shape"
   ]
  },
  {
   "cell_type": "markdown",
   "id": "545d3c8e",
   "metadata": {},
   "source": [
    "Visualize"
   ]
  },
  {
   "cell_type": "code",
   "execution_count": null,
   "id": "cc1e4198",
   "metadata": {},
   "outputs": [],
   "source": [
    "visualize(o_l_aligned)"
   ]
  },
  {
   "cell_type": "code",
   "execution_count": null,
   "id": "6b811c1d",
   "metadata": {},
   "outputs": [],
   "source": [
    "visualize(o_p_aligned)"
   ]
  },
  {
   "cell_type": "code",
   "execution_count": 16,
   "id": "064f2587",
   "metadata": {},
   "outputs": [],
   "source": [
    "G1 = torch.from_numpy(o_l_aligned.astype(float))\n",
    "G2 = torch.from_numpy(o_p_aligned.astype(float))"
   ]
  },
  {
   "cell_type": "markdown",
   "id": "30c3d228",
   "metadata": {},
   "source": [
    "Compute persistence barcodes for each of segmentations"
   ]
  },
  {
   "cell_type": "code",
   "execution_count": 17,
   "id": "48d2d84f",
   "metadata": {},
   "outputs": [
    {
     "data": {
      "image/png": "[encoded data removed]",
      "text/plain": [
       "<Figure size 300x100 with 1 Axes>"
      ]
     },
     "metadata": {},
     "output_type": "display_data"
    }
   ],
   "source": [
    "cubical_complex = gudhi.CubicalComplex(vertices = G1.numpy())\n",
    "cubical_complex.compute_persistence(homology_coeff_field = 2, min_persistence = 0.0)\n",
    "barc0 = cubical_complex.persistence_intervals_in_dimension(0)[0:-1,]\n",
    "barc1 = cubical_complex.persistence_intervals_in_dimension(1)\n",
    "barc2 = cubical_complex.persistence_intervals_in_dimension(2)\n",
    "barc3 = cubical_complex.persistence_intervals_in_dimension(3)\n",
    "\n",
    "fig, ax = plt.subplots(1, 1)\n",
    "fig.set_size_inches((3, 1))\n",
    "\n",
    "ax.set_xlim(-0.1, 1.7)\n",
    "ax.set_ylim(-0.5, 1.5)\n",
    "\n",
    "plot_barcodes([barc0, barc1, barc2, barc3])"
   ]
  },
  {
   "cell_type": "code",
   "execution_count": 18,
   "id": "d59f7dff",
   "metadata": {},
   "outputs": [
    {
     "data": {
      "image/png": "[encoded data removed]",
      "text/plain": [
       "<Figure size 300x100 with 1 Axes>"
      ]
     },
     "metadata": {},
     "output_type": "display_data"
    }
   ],
   "source": [
    "cubical_complex = gudhi.CubicalComplex(vertices = G2.numpy())\n",
    "cubical_complex.compute_persistence(homology_coeff_field = 2, min_persistence = 0.0)\n",
    "barc0 = cubical_complex.persistence_intervals_in_dimension(0)[0:-1,]\n",
    "barc1 = cubical_complex.persistence_intervals_in_dimension(1)\n",
    "barc2 = cubical_complex.persistence_intervals_in_dimension(2)\n",
    "barc3 = cubical_complex.persistence_intervals_in_dimension(3)\n",
    "\n",
    "fig, ax = plt.subplots(1, 1)\n",
    "fig.set_size_inches((3, 1))\n",
    "\n",
    "ax.set_xlim(-0.1, 1.7)\n",
    "ax.set_ylim(-0.5, 1.5)\n",
    "\n",
    "plot_barcodes([barc0, barc1, barc2, barc3])"
   ]
  },
  {
   "cell_type": "markdown",
   "id": "9eb1b055",
   "metadata": {},
   "source": [
    "The two segmentations are indistinguishable with persistence barcodes."
   ]
  },
  {
   "cell_type": "markdown",
   "id": "65942dde",
   "metadata": {},
   "source": [
    "Compute F-Cross-Barcodes"
   ]
  },
  {
   "cell_type": "code",
   "execution_count": 19,
   "id": "ae13bd21",
   "metadata": {},
   "outputs": [],
   "source": [
    "sfd = SFDLossGudhi(dims = [0, 1, 2, 3])"
   ]
  },
  {
   "cell_type": "code",
   "execution_count": 20,
   "id": "969dbd18",
   "metadata": {},
   "outputs": [],
   "source": [
    "sfd(G1, G2)\n",
    "pers0 = sfd.cubical_complex.persistence_intervals_in_dimension(0)[0:-1,]\n",
    "pers1 = sfd.cubical_complex.persistence_intervals_in_dimension(1)\n",
    "pers2 = sfd.cubical_complex.persistence_intervals_in_dimension(2)\n",
    "pers3 = sfd.cubical_complex.persistence_intervals_in_dimension(3)"
   ]
  },
  {
   "cell_type": "code",
   "execution_count": 21,
   "id": "520f68ea",
   "metadata": {},
   "outputs": [
    {
     "data": {
      "image/png": "[encoded data removed]",
      "text/plain": [
       "<Figure size 300x100 with 1 Axes>"
      ]
     },
     "metadata": {},
     "output_type": "display_data"
    }
   ],
   "source": [
    "fig, ax = plt.subplots(1, 1)\n",
    "fig.set_size_inches((3, 1))\n",
    "\n",
    "ax.set_xlim(-0.1, 1.7)\n",
    "\n",
    "plot_barcodes(np.array([pers0, pers1, pers2, pers3], dtype = object))"
   ]
  },
  {
   "cell_type": "code",
   "execution_count": 22,
   "id": "e5599d68",
   "metadata": {},
   "outputs": [],
   "source": [
    "sfd(G2, G1)\n",
    "pers0 = sfd.cubical_complex.persistence_intervals_in_dimension(0)[0:-1,]\n",
    "pers1 = sfd.cubical_complex.persistence_intervals_in_dimension(1)\n",
    "pers2 = sfd.cubical_complex.persistence_intervals_in_dimension(2)\n",
    "pers3 = sfd.cubical_complex.persistence_intervals_in_dimension(3)"
   ]
  },
  {
   "cell_type": "code",
   "execution_count": 23,
   "id": "7bce9db9",
   "metadata": {},
   "outputs": [
    {
     "data": {
      "image/png": "[encoded data removed]",
      "text/plain": [
       "<Figure size 300x100 with 1 Axes>"
      ]
     },
     "metadata": {},
     "output_type": "display_data"
    }
   ],
   "source": [
    "fig, ax = plt.subplots(1, 1)\n",
    "fig.set_size_inches((3, 1))\n",
    "\n",
    "ax.set_xlim(-0.1, 1.7)\n",
    "\n",
    "plot_barcodes(np.array([pers0, pers1, pers2, pers3], dtype = object))"
   ]
  },
  {
   "cell_type": "markdown",
   "id": "66639143",
   "metadata": {},
   "source": [
    "F-Cross-Barcode reveal distinguishing features."
   ]
  },
  {
   "cell_type": "markdown",
   "id": "6b130cc7",
   "metadata": {},
   "source": [
    "Visualize features"
   ]
  },
  {
   "cell_type": "code",
   "execution_count": 24,
   "id": "821b9058",
   "metadata": {},
   "outputs": [],
   "source": [
    "G_marker = torch.zeros((G1.shape[0], G1.shape[1], G1.shape[2]))"
   ]
  },
  {
   "cell_type": "code",
   "execution_count": 25,
   "id": "ed2db1f8",
   "metadata": {},
   "outputs": [],
   "source": [
    "sfd = SFDLossGudhi(dims = [0, 1, 2, 3])"
   ]
  },
  {
   "cell_type": "code",
   "execution_count": 26,
   "id": "046cde59",
   "metadata": {},
   "outputs": [
    {
     "name": "stdout",
     "output_type": "stream",
     "text": [
      "dim 3 65959 60019 (1, 26, 4, 11) (1, 26, 4, 10)\n"
     ]
    }
   ],
   "source": [
    "sfd(G1, G2)\n",
    "features = []\n",
    "for dim in range(4):\n",
    "    feat_dim = add_markers(G_marker, dim=dim)\n",
    "    if feat_dim is not None:\n",
    "        features.extend(feat_dim)"
   ]
  },
  {
   "cell_type": "code",
   "execution_count": 27,
   "id": "b4f84d00",
   "metadata": {},
   "outputs": [
    {
     "data": {
      "text/plain": [
       "[[[26, 4, 11], [26, 4, 10]]]"
      ]
     },
     "execution_count": 27,
     "metadata": {},
     "output_type": "execute_result"
    }
   ],
   "source": [
    "features"
   ]
  },
  {
   "cell_type": "code",
   "execution_count": 28,
   "id": "039cc181",
   "metadata": {},
   "outputs": [
    {
     "name": "stdout",
     "output_type": "stream",
     "text": [
      "dim 3 19069 13129 (1, 11, 9, 3) (1, 11, 9, 2)\n"
     ]
    }
   ],
   "source": [
    "sfd(G2, G1)\n",
    "features_inv = []\n",
    "for dim in range(4):\n",
    "    feat_dim = add_markers(G_marker, dim=dim)\n",
    "    if feat_dim is not None:\n",
    "        features_inv.extend(feat_dim)"
   ]
  },
  {
   "cell_type": "code",
   "execution_count": 29,
   "id": "a661c263",
   "metadata": {},
   "outputs": [
    {
     "data": {
      "text/plain": [
       "[[[11, 9, 3], [11, 9, 2]]]"
      ]
     },
     "execution_count": 29,
     "metadata": {},
     "output_type": "execute_result"
    }
   ],
   "source": [
    "features_inv"
   ]
  },
  {
   "cell_type": "code",
   "execution_count": 30,
   "id": "26645121",
   "metadata": {},
   "outputs": [],
   "source": [
    "visualize(o_l_aligned, features)"
   ]
  },
  {
   "cell_type": "code",
   "execution_count": 31,
   "id": "f6ebb34e",
   "metadata": {},
   "outputs": [],
   "source": [
    "visualize(o_p_aligned, features_inv)"
   ]
  },
  {
   "cell_type": "code",
   "execution_count": null,
   "id": "bf52a1f5",
   "metadata": {},
   "outputs": [],
   "source": []
  }
 ],
 "metadata": {
  "kernelspec": {
   "display_name": "Python 3 (ipykernel)",
   "language": "python",
   "name": "python3"
  },
  "language_info": {
   "codemirror_mode": {
    "name": "ipython",
    "version": 3
   },
   "file_extension": ".py",
   "mimetype": "text/x-python",
   "name": "python",
   "nbconvert_exporter": "python",
   "pygments_lexer": "ipython3",
   "version": "3.11.7"
  }
 },
 "nbformat": 4,
 "nbformat_minor": 5
}
