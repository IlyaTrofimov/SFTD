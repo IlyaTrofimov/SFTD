{
 "cells": [
  {
   "cell_type": "code",
   "execution_count": 1,
   "metadata": {},
   "outputs": [],
   "source": [
    "import torch\n",
    "import gudhi\n",
    "import numpy as np"
   ]
  },
  {
   "cell_type": "code",
   "execution_count": 2,
   "metadata": {},
   "outputs": [],
   "source": [
    "class SFTDLossGudhi:\n",
    "    def __init__(self, dims = 1, card = 100, p = 1):\n",
    "        self.dims = dims\n",
    "        self.card = card\n",
    "        self.p = p\n",
    "        self.min_barcode = 0.\n",
    "\n",
    "    def __call__(self, F1, G1):\n",
    "        D_size = torch.Size([3] + list(F1.shape))\n",
    "        D = torch.zeros(D_size)\n",
    "\n",
    "        D[0] = torch.min(F1, G1)\n",
    "        D[1] = F1\n",
    "        D[2] = torch.min(torch.min(F1, G1)).expand(F1.shape)\n",
    "\n",
    "        cubical_complex = gudhi.CubicalComplex(vertices = D.detach().numpy())\n",
    "        cubical_complex.compute_persistence(homology_coeff_field = 2, min_persistence = 0.0)\n",
    "\n",
    "        v = cubical_complex.vertices_of_persistence_pairs()\n",
    "        self.cubical_complex = cubical_complex\n",
    "\n",
    "        D_fortran = D.permute(*torch.arange(D.ndim - 1, -1, -1))\n",
    "        D_flat = D_fortran.reshape(D.numel())\n",
    "        loss = 0.\n",
    "\n",
    "        self.barcodes = {}\n",
    "\n",
    "        for dim in self.dims:\n",
    "\n",
    "            self.barcodes[dim] = []\n",
    "\n",
    "            if v[0] and len(v[0]) >= dim + 1:\n",
    "\n",
    "                r = []\n",
    "\n",
    "                for elem in v[0][dim]:\n",
    "                    i, j = elem\n",
    "                    if D_flat[j] - D_flat[i] > self.min_barcode:\n",
    "                        r.append((D_flat[i], D_flat[j]))\n",
    "\n",
    "\n",
    "                self.barcodes[dim] = r\n",
    "\n",
    "                r_sorted = sorted(r, key = lambda x : x[1].item() - x[0].item(), reverse = True)\n",
    "                part_loss = sum(map(lambda x : (x[1] - x[0]) ** self.p, r_sorted[:self.card]))\n",
    "\n",
    "                loss += part_loss\n",
    "        return loss"
   ]
  },
  {
   "cell_type": "code",
   "execution_count": 3,
   "metadata": {},
   "outputs": [],
   "source": [
    "def cmp(a, b):\n",
    "    return abs(a - b) > 1e-10"
   ]
  },
  {
   "cell_type": "code",
   "execution_count": 4,
   "metadata": {},
   "outputs": [
    {
     "name": "stdout",
     "output_type": "stream",
     "text": [
      "OK!\n"
     ]
    }
   ],
   "source": [
    "for trial in range(100):\n",
    "    F1 = torch.rand((64, 64))\n",
    "    G1 = torch.rand((64, 64))\n",
    "\n",
    "    loss = SFTDLossGudhi(dims = [0, 1, 2], card = 100, p = 2)\n",
    "    loss(F1, G1)\n",
    "\n",
    "    for dim in [0, 1, 2]:\n",
    "        correct_persistence = loss.cubical_complex.persistence_intervals_in_dimension(dim)\n",
    "        correct_persistence_python = [(x[0], x[1]) for x in correct_persistence]\n",
    "        correct_persistence_python = list(filter(lambda x : x[1] < np.inf, correct_persistence_python))\n",
    "\n",
    "        test_persistence_python = [(x[0].item(), x[1].item()) for x in loss.barcodes[dim]]\n",
    "\n",
    "        #print('dim', dim, len(correct_persistence_python), len(test_persistence_python))\n",
    "\n",
    "        for elem1, elem2 in zip(sorted(correct_persistence_python), sorted(test_persistence_python)):    \n",
    "            if cmp(elem1[0], elem2[0]) or cmp(elem1[1], elem2[1]):\n",
    "                print('ERROR')\n",
    "                \n",
    "print('OK!')"
   ]
  }
 ],
 "metadata": {
  "kernelspec": {
   "display_name": "Python 3 (ipykernel)",
   "language": "python",
   "name": "python3"
  },
  "language_info": {
   "codemirror_mode": {
    "name": "ipython",
    "version": 3
   },
   "file_extension": ".py",
   "mimetype": "text/x-python",
   "name": "python",
   "nbconvert_exporter": "python",
   "pygments_lexer": "ipython3",
   "version": "3.9.13"
  }
 },
 "nbformat": 4,
 "nbformat_minor": 4
}
